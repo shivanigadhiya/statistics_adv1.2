{
 "cells": [
  {
   "cell_type": "markdown",
   "id": "23f9ab1d-383b-47e5-bc29-dba38bc7788a",
   "metadata": {},
   "source": [
    "Q1: What are the Probability Mass Function (PMF) and Probability Density Function (PDF)? Explain with\n",
    "an example."
   ]
  },
  {
   "cell_type": "markdown",
   "id": "c56fc0f9-57d7-4692-a749-511b7af5203c",
   "metadata": {},
   "source": [
    "Probability mass function denotes the probability that a discrete random variable will take on a particular value. Probability density function gives the probability that a continuous random variable will lie between a certain specified interval. It is used for discrete random variables."
   ]
  },
  {
   "cell_type": "markdown",
   "id": "86f9a87e-e773-423f-aa90-aec71ffaebce",
   "metadata": {},
   "source": [
    "example : PMF Rolling a dice , PDF temp. at given range"
   ]
  },
  {
   "cell_type": "markdown",
   "id": "98645dd2-491f-4f88-ac95-b0578966b653",
   "metadata": {},
   "source": [
    "Q2: What is Cumulative Density Function (CDF)? Explain with an example. Why CDF is used?"
   ]
  },
  {
   "cell_type": "markdown",
   "id": "0acfe740-c844-4b5d-944e-8a2ffcc3484e",
   "metadata": {},
   "source": [
    "The cumulative distribution function (CDF) calculates the cumulative probability for a given x-value. Use the CDF to determine the likelihood that a random observation taken from the population will be less than or equal to a particular value."
   ]
  },
  {
   "cell_type": "markdown",
   "id": "ca9d5fe2-b680-4758-a100-9edaae067ef5",
   "metadata": {},
   "source": [
    "Example : For, example, at point x=1, the CDF jumps from 14 to 34. The size of the jump here is 34−14=12 which is equal to PX(1). Also, note that the open and closed circles at point x=1 indicate that FX(1)=34 and not 14."
   ]
  },
  {
   "cell_type": "markdown",
   "id": "ec031e8a-ee84-4453-bee8-debaa9123496",
   "metadata": {},
   "source": [
    "Q3: What are some examples of situations where the normal distribution might be used as a model?\n",
    "Explain how the parameters of the normal distribution relate to the shape of the distribution."
   ]
  },
  {
   "cell_type": "markdown",
   "id": "6e5188f6-9ba2-43a0-b58c-828a380a4393",
   "metadata": {},
   "source": [
    "In the statistics , a normal distribution or Gaussian distribution id a type of continuous probability distribution \n",
    "for real valued random variable."
   ]
  },
  {
   "cell_type": "markdown",
   "id": "0412e110-cefb-4ceb-98cf-a35613e27247",
   "metadata": {},
   "source": [
    "Parameters : \n",
    "in normal distribution mean, median and mode are at the same place , where mean is.\n",
    "Var = sigma square \n",
    "std = underroot of var"
   ]
  },
  {
   "cell_type": "markdown",
   "id": "3cc56a09-d349-4d72-9b9c-cf38b4ddeb21",
   "metadata": {},
   "source": [
    "Example : Height of students in a classroom."
   ]
  },
  {
   "cell_type": "markdown",
   "id": "f5f0639e-a0d0-4bc9-ace0-3136b28edf14",
   "metadata": {},
   "source": [
    "Q4: Explain the importance of Normal Distribution. Give a few real-life examples of Normal\n",
    "Distribution."
   ]
  },
  {
   "cell_type": "markdown",
   "id": "73790dbc-44af-4e65-aa78-6483d67c0635",
   "metadata": {},
   "source": [
    "for practical purpose normal distribution is good enough to represent the distribution of continuous variable like-height,weight,blood pressure etc.. often used to aproximate other distribution. normal distribution has significant use in statistical quality control."
   ]
  },
  {
   "cell_type": "markdown",
   "id": "4529a7d1-a21e-43d3-a07b-baf7f1065a3b",
   "metadata": {},
   "source": [
    "Q5: What is Bernaulli Distribution? Give an Example. What is the difference between Bernoulli\n",
    "Distribution and Binomial Distribution?"
   ]
  },
  {
   "cell_type": "markdown",
   "id": "146aafea-c494-4353-bab9-0eabc5ab1093",
   "metadata": {},
   "source": [
    "Bernaulli Distribution : It is the discrete probability distribution of a random variable which takes value 1 with\n",
    "probability is p and the value 0 with probability q=1-p.Less formally , it can be thought of as a model for the \n",
    "set of possible outcomes of any single experiment that asks a yes - no question."
   ]
  },
  {
   "cell_type": "markdown",
   "id": "027eedb7-31be-4272-b5c6-74386bb0725f",
   "metadata": {},
   "source": [
    "The Bernoulli distribution represents the success or failure of a single Bernoulli trial. The Binomial Distribution represents the number of successes and failures in n independent Bernoulli trials for some given value of n."
   ]
  },
  {
   "cell_type": "markdown",
   "id": "216458dc-8b35-4cc4-93d4-2fd41d9e8113",
   "metadata": {},
   "source": [
    "Q7: Explain uniform Distribution with an example."
   ]
  },
  {
   "cell_type": "markdown",
   "id": "9c376229-bcdf-4049-bdf9-41f6779d2f27",
   "metadata": {},
   "source": [
    " In statistics, uniform distribution refers to a type of probability distribution in which all outcomes are equally likely."
   ]
  },
  {
   "cell_type": "markdown",
   "id": "bd562691-1d60-4d95-9ad4-22f3c1dfc07a",
   "metadata": {},
   "source": [
    "A deck of cards has uniform distributions within it since the probability of drawing a heart, club, diamond or spade is equally possible."
   ]
  },
  {
   "cell_type": "markdown",
   "id": "fad927a1-0b59-49ea-a12b-f631652a648d",
   "metadata": {},
   "source": [
    "Q8: What is the z score? State the importance of the z score."
   ]
  },
  {
   "cell_type": "markdown",
   "id": "aa9268c3-72a2-40a4-939c-afc1f5b1cf04",
   "metadata": {},
   "source": [
    "To convert normal distribution to standard normal distribution we use z-score."
   ]
  },
  {
   "cell_type": "markdown",
   "id": "e92bdef1-64cb-4d00-b83c-8cf911fa6860",
   "metadata": {},
   "source": [
    " A z-score is important because it tells where your data lies in the data distribution."
   ]
  },
  {
   "cell_type": "markdown",
   "id": "69b69aad-f667-4f2d-907a-cc2e2e490d67",
   "metadata": {},
   "source": [
    "Q9: What is Central Limit Theorem? State the significance of the Central Limit Theorem."
   ]
  },
  {
   "cell_type": "markdown",
   "id": "c8de90c8-56cf-4a19-a220-1b6b6ba558d9",
   "metadata": {},
   "source": [
    "The sampling distribution of the mean will always be normally distributed ,a s long as the sample size is large \n",
    "enough.Regardless of wether the population has a normal , poison , binomoal, or any other distribution of the mean\n",
    "will be normal."
   ]
  },
  {
   "cell_type": "markdown",
   "id": "cdf90140-350e-4338-abb1-cfe1fabdc127",
   "metadata": {},
   "source": [
    "Q10: State the assumptions of the Central Limit Theorem."
   ]
  },
  {
   "cell_type": "markdown",
   "id": "dc10a835-89e5-48a5-849b-d9d790a76398",
   "metadata": {},
   "source": [
    "Assumptions Behind the Central Limit Theorem\n",
    "It needs to be sampled at random. The samples should be unrelated to one another."
   ]
  },
  {
   "cell_type": "markdown",
   "id": "db1a77ea-3941-4aa1-b53f-c6f67f31053c",
   "metadata": {},
   "source": [
    "Q6. Consider a dataset with a mean of 50 and a standard deviation of 10. If we assume that the dataset\n",
    "is normally distributed, what is the probability that a randomly selected observation will be greater\n",
    "than 60? Use the appropriate formula and show your calculations."
   ]
  },
  {
   "cell_type": "markdown",
   "id": "b3ec228e-f27f-44a4-b466-8b045147b025",
   "metadata": {},
   "source": [
    "z = (60 - 50)/10 = 1"
   ]
  },
  {
   "cell_type": "markdown",
   "id": "675ea85f-9e45-4def-98ef-d1688aba593c",
   "metadata": {},
   "source": [
    "z score value = 0.84134"
   ]
  },
  {
   "cell_type": "markdown",
   "id": "fe2d3f8e-5970-4ccf-a4e0-48c70ae0749f",
   "metadata": {},
   "source": [
    "Area under the curve : 1 - 0.84134 = 0.15866"
   ]
  },
  {
   "cell_type": "markdown",
   "id": "29de9b82-648d-44cc-9487-39660507cb7c",
   "metadata": {},
   "source": [
    " So, the probability that a randomly selected observation from this dataset is greater than 60 is approximately 0.1587 or 15.87%.\n",
    "\n",
    "\n",
    "\n",
    "\n",
    "\n"
   ]
  },
  {
   "cell_type": "code",
   "execution_count": null,
   "id": "c2443245-954e-483f-8797-0e21c9450006",
   "metadata": {},
   "outputs": [],
   "source": []
  }
 ],
 "metadata": {
  "kernelspec": {
   "display_name": "Python 3 (ipykernel)",
   "language": "python",
   "name": "python3"
  },
  "language_info": {
   "codemirror_mode": {
    "name": "ipython",
    "version": 3
   },
   "file_extension": ".py",
   "mimetype": "text/x-python",
   "name": "python",
   "nbconvert_exporter": "python",
   "pygments_lexer": "ipython3",
   "version": "3.10.8"
  }
 },
 "nbformat": 4,
 "nbformat_minor": 5
}
